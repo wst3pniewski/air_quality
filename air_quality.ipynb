{
 "cells": [
  {
   "cell_type": "markdown",
   "id": "7d1f479d-f6c3-47d6-838f-9c2340207384",
   "metadata": {},
   "source": [
    "# 1. Cel projektu"
   ]
  },
  {
   "cell_type": "markdown",
   "id": "91741919-f4d2-4ec1-9d4d-08d943b1d3e4",
   "metadata": {},
   "source": [
    "## 1. Cel i zakres projektu"
   ]
  },
  {
   "cell_type": "markdown",
   "id": "e485f51d-e291-434a-8d77-59ca48677a05",
   "metadata": {},
   "source": [
    "### Cel\n",
    "\n",
    "### Zakres"
   ]
  },
  {
   "cell_type": "markdown",
   "id": "25931b07-a71b-4935-ad0e-0701acfbef7b",
   "metadata": {},
   "source": [
    "## 2. Dataset"
   ]
  },
  {
   "cell_type": "markdown",
   "id": "f9db469c-639b-4f8f-99a1-ab820d6ca55a",
   "metadata": {},
   "source": [
    "### Opis danych"
   ]
  },
  {
   "cell_type": "markdown",
   "id": "db43ec11-470d-4d0f-bf5d-ff168c7d6432",
   "metadata": {},
   "source": [
    "# 2. Wartość merytoryczna rozwiązania"
   ]
  },
  {
   "cell_type": "markdown",
   "id": "6dd41678-e554-47c3-b3ab-45262a1b0eb3",
   "metadata": {},
   "source": [
    "# 3. Wizualizacja rozwiązania"
   ]
  },
  {
   "cell_type": "code",
   "execution_count": null,
   "id": "a3f39341-3b4a-4b95-9d51-9106b75d4407",
   "metadata": {},
   "outputs": [],
   "source": []
  }
 ],
 "metadata": {
  "kernelspec": {
   "display_name": "Python 3 (ipykernel)",
   "language": "python",
   "name": "python3"
  },
  "language_info": {
   "codemirror_mode": {
    "name": "ipython",
    "version": 3
   },
   "file_extension": ".py",
   "mimetype": "text/x-python",
   "name": "python",
   "nbconvert_exporter": "python",
   "pygments_lexer": "ipython3",
   "version": "3.12.7"
  }
 },
 "nbformat": 4,
 "nbformat_minor": 5
}
