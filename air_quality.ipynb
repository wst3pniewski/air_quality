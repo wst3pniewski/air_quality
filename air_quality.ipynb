{
 "cells": [
  {
   "cell_type": "markdown",
   "id": "7d1f479d-f6c3-47d6-838f-9c2340207384",
   "metadata": {},
   "source": [
    "# 1. Cel projektu"
   ]
  },
  {
   "cell_type": "markdown",
   "id": "91741919-f4d2-4ec1-9d4d-08d943b1d3e4",
   "metadata": {},
   "source": [
    "## 1. Cel i zakres projektu"
   ]
  },
  {
   "cell_type": "markdown",
   "id": "e485f51d-e291-434a-8d77-59ca48677a05",
   "metadata": {},
   "source": [
    "### Cel\n",
    "Głównym celem projektu jest analiza jakości powietrza w Polsce na podstawie danych dotyczących różnych wskaźników czystości powietrza (np. pyły PM2.5, PM10) zbieranych z różnych stacji pomiarowych na terenie kraju.\n",
    "\n",
    "**Projekt ma na celu:**\n",
    "\n",
    "    1. Identyfikację obszarów o najwyższym i najniższym poziomie zanieczyszczeń.\n",
    "\n",
    "    2. Analizę trendów czasowych (np. sezonowych) w stężeniach zanieczyszczeń.\n",
    "\n",
    "    3. Ocenę wpływu czynników takich jak lokalizacja stacji (miejskie, wiejskie), typ obszaru (przemysłowy, komunikacyjny).\n",
    "\n",
    "    4. Dostarczenie informacji dla decydentów i społeczeństwa, które mogą przyczynić się do poprawy jakości powietrza."
   ]
  },
  {
   "cell_type": "markdown",
   "id": "584127b5-8109-4112-a8fa-53d80976c93b",
   "metadata": {},
   "source": [
    "### Zakres"
   ]
  },
  {
   "cell_type": "markdown",
   "id": "25931b07-a71b-4935-ad0e-0701acfbef7b",
   "metadata": {},
   "source": [
    "## 2. Dataset"
   ]
  },
  {
   "cell_type": "markdown",
   "id": "f9db469c-639b-4f8f-99a1-ab820d6ca55a",
   "metadata": {},
   "source": [
    "### Opis danych"
   ]
  },
  {
   "cell_type": "markdown",
   "id": "875dfc84-9c60-410f-90e2-78d552c03a62",
   "metadata": {},
   "source": [
    "| Nazwa kolumny       | Opis                                                                 |\n",
    "|---------------------|---------------------------------------------------------------------|\n",
    "| `kod_stacji`        | Unikalny kod identyfikujący stację pomiarową.                       |\n",
    "| `wskaznik`          | Rodzaj mierzonego wskaźnika (np. PM2.5, PM10, NO2).                 |\n",
    "| `czas_usredniania`  | Okres uśredniania pomiarów (np. 1 godzina, 24 godziny).             |\n",
    "| `jednostka`         | Jednostka miary dla wskaźnika (np. µg/m³).                          |\n",
    "| `data`              | Data pomiaru.                                                       |\n",
    "| `pomiar`            | Zmierzona wartość wskaźnika.                                        |\n",
    "| `stary_kod_stacji`  | Poprzedni kod stacji (jeśli istnieje).                              |\n",
    "| `typ_obszaru`       | Typ obszaru, na którym znajduje się stacja (np. miejski, wiejski).  |\n",
    "| `rodzaj_stacji`     | Rodzaj stacji pomiarowej (np. tło, komunikacyjna).                  |\n",
    "| `wojewodztwo`       | Województwo, w którym znajduje się stacja.                          |\n",
    "| `miejscowosc`       | Miejscowość, w której znajduje się stacja.                          |\n",
    "| `latitude`          | Szerokość geograficzna stacji pomiarowej.                           |\n",
    "| `longitude`         | Długość geograficzna stacji pomiarowej.                             |"
   ]
  },
  {
   "cell_type": "code",
   "execution_count": 2,
   "id": "0b7dbcb8-64a3-4fef-a1e0-01b9bf88ffff",
   "metadata": {},
   "outputs": [
    {
     "data": {
      "text/plain": [
       "Index(['kod_stacji', 'wskaznik', 'czas_usredniania', 'jednostka', 'data',\n",
       "       'pomiar', 'stary_kod_stacji', 'typ_obszaru', 'rodzaj_stacji',\n",
       "       'wojewodztwo', 'miejscowosc', 'latitude', 'longitude'],\n",
       "      dtype='object')"
      ]
     },
     "execution_count": 2,
     "metadata": {},
     "output_type": "execute_result"
    }
   ],
   "source": [
    "import pandas as pd\n",
    "df = pd.read_csv('data/2023/2022_pm10_merged.csv')\n",
    "df.columns"
   ]
  },
  {
   "cell_type": "markdown",
   "id": "db43ec11-470d-4d0f-bf5d-ff168c7d6432",
   "metadata": {},
   "source": [
    "# 2. Wartość merytoryczna rozwiązania"
   ]
  },
  {
   "cell_type": "markdown",
   "id": "6dd41678-e554-47c3-b3ab-45262a1b0eb3",
   "metadata": {},
   "source": [
    "# 3. Wizualizacja rozwiązania"
   ]
  }
 ],
 "metadata": {
  "kernelspec": {
   "display_name": "Python 3 (ipykernel)",
   "language": "python",
   "name": "python3"
  },
  "language_info": {
   "codemirror_mode": {
    "name": "ipython",
    "version": 3
   },
   "file_extension": ".py",
   "mimetype": "text/x-python",
   "name": "python",
   "nbconvert_exporter": "python",
   "pygments_lexer": "ipython3",
   "version": "3.12.7"
  }
 },
 "nbformat": 4,
 "nbformat_minor": 5
}
