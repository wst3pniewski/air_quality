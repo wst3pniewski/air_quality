{
 "cells": [
  {
   "cell_type": "markdown",
   "id": "7d1f479d-f6c3-47d6-838f-9c2340207384",
   "metadata": {},
   "source": [
    "# 1. Cel projektu"
   ]
  },
  {
   "cell_type": "markdown",
   "id": "91741919-f4d2-4ec1-9d4d-08d943b1d3e4",
   "metadata": {},
   "source": [
    "## 1. Cel i zakres projektu"
   ]
  },
  {
   "cell_type": "markdown",
   "id": "e485f51d-e291-434a-8d77-59ca48677a05",
   "metadata": {},
   "source": [
    "### Cel\n",
    "Głównym celem projektu jest analiza jakości powietrza w Polsce na podstawie danych dotyczących różnych wskaźników czystości powietrza (np. pyły PM2.5, PM10) zbieranych z różnych stacji pomiarowych na terenie kraju.\n",
    "\n",
    "**Projekt ma na celu:**\n",
    "\n",
    "    1. Identyfikację obszarów o najwyższym i najniższym poziomie zanieczyszczeń.\n",
    "\n",
    "    2. Analizę trendów czasowych (np. sezonowych) w stężeniach zanieczyszczeń.\n",
    "\n",
    "    3. Ocenę wpływu czynników takich jak lokalizacja stacji (miejskie, wiejskie), typ obszaru (przemysłowy, komunikacyjny).\n",
    "\n",
    "    4. Dostarczenie informacji dla decydentów i społeczeństwa, które mogą przyczynić się do poprawy jakości powietrza."
   ]
  },
  {
   "cell_type": "markdown",
   "id": "584127b5-8109-4112-a8fa-53d80976c93b",
   "metadata": {},
   "source": [
    "### Zakres\n",
    "#### Dane: \n",
    "    Wykorzystane zostaną dane z różnych stacji pomiarowych na terenie Polski, zawierające informacje o stężeniach pyłów PM2.5, PM10 oraz innych wskaźników jakości powietrza. Dane zostały pozyskane ze strony internetowej Głównego Inspektoratu Ochrony Środowiska (https://powietrze.gios.gov.pl).\n",
    "\n",
    "#### Analiza: \n",
    "    Dane zostaną poddane analizie statystycznej i przestrzennej, w tym:\n",
    "    \n",
    "    - Mapowanie stężeń zanieczyszczeń.\n",
    "    \n",
    "    - Identyfikacja obszarów o najwyższym poziomie zanieczyszczeń.\n",
    "    \n",
    "    - Analiza trendów czasowych.\n",
    "    \n",
    "    - Korelacje z czynnikami takimi jak typ obszaru.\n",
    "\n",
    "#### Wyniki: \n",
    "    Projekt dostarczy wizualizacje, które będą mogły być wykorzystane do podejmowania decyzji dotyczących ochrony środowiska i zdrowia publicznego."
   ]
  },
  {
   "cell_type": "markdown",
   "id": "25931b07-a71b-4935-ad0e-0701acfbef7b",
   "metadata": {},
   "source": [
    "## 2. Dataset"
   ]
  },
  {
   "cell_type": "markdown",
   "id": "f9db469c-639b-4f8f-99a1-ab820d6ca55a",
   "metadata": {},
   "source": [
    "### Opis danych\n",
    "Każdy rekord z rekordów jest uśrednionym pomiarem danego wskaźnika z 24 godzin, zrealizowanym w konkretnej lokalizacji."
   ]
  },
  {
   "cell_type": "markdown",
   "id": "875dfc84-9c60-410f-90e2-78d552c03a62",
   "metadata": {},
   "source": [
    "| Nazwa kolumny       | Opis                                                                 |\n",
    "|---------------------|---------------------------------------------------------------------|\n",
    "| `kod_stacji`        | Unikalny kod identyfikujący stację pomiarową.                       |\n",
    "| `wskaznik`          | Rodzaj mierzonego wskaźnika (np. PM2.5, PM10, NO2).                 |\n",
    "| `czas_usredniania`  | Okres uśredniania pomiarów (np. 1 godzina, 24 godziny).             |\n",
    "| `jednostka`         | Jednostka miary dla wskaźnika (np. µg/m³).                          |\n",
    "| `data`              | Data pomiaru.                                                       |\n",
    "| `pomiar`            | Zmierzona wartość wskaźnika.                                        |\n",
    "| `stary_kod_stacji`  | Poprzedni kod stacji (jeśli istnieje).                              |\n",
    "| `typ_obszaru`       | Typ obszaru, na którym znajduje się stacja (np. miejski, wiejski).  |\n",
    "| `rodzaj_stacji`     | Rodzaj stacji pomiarowej (np. tło, komunikacyjna).                  |\n",
    "| `wojewodztwo`       | Województwo, w którym znajduje się stacja.                          |\n",
    "| `miejscowosc`       | Miejscowość, w której znajduje się stacja.                          |\n",
    "| `latitude`          | Szerokość geograficzna stacji pomiarowej.                           |\n",
    "| `longitude`         | Długość geograficzna stacji pomiarowej.                             |"
   ]
  },
  {
   "cell_type": "markdown",
   "id": "5cecd54b-5363-4049-818f-406927d788c5",
   "metadata": {},
   "source": [
    "Dataset został stworzony wstępnie w programie Excel (transpozycje, usunięcie zbędnych kolumn), a następnie przekształcony do potrzebnego nam formatu w pythonie za pomocą biblioteki pandas:\n",
    "```python\n",
    "import pandas as pd\n",
    "\n",
    "def merge_measures_with_stations_data(df_data, df_stations_data, new_file_name: str, year: str):\n",
    "    df_data_melted = df_data.melt(id_vars=['kod_stacji', 'wskaznik', 'czas_usredniania', 'jednostka'], var_name='data', value_name='pomiar')\n",
    "    merged = pd.merge(df_data_melted, df_stations_data, on='kod_stacji', how='inner')\n",
    "    merged['data'] = pd.to_datetime(merged['data'], format='%d-%m-%Y')\n",
    "    merged.to_csv(f'data/{year}/{new_file_name}.csv', index=False)\n",
    "\n",
    "df_stations = pd.read_excel('data/metadane_kody_stacji_i_stanowisk_pomiarowych.xlsx')\n",
    "df_2023_pm_10 = pd.read_excel('data/2023/2023_PM10_24h_formatted.xlsx')\n",
    "df_2022_pm_10 = pd.read_excel('data/2022/2022_PM10_24h_formatted.xlsx')\n",
    "df_2021_pm_10 = pd.read_excel('data/2021/2021_PM10_24h_formatted.xlsx')\n",
    "\n",
    "merge_measures_with_stations_data(df_2023_pm_10, df_stations, '2023_pm10_merged', '2023')\n",
    "merge_measures_with_stations_data(df_2022_pm_10, df_stations, '2022_pm10_merged', '2022')\n",
    "merge_measures_with_stations_data(df_2021_pm_10, df_stations, '2021_pm10_merged', '2021')\n",
    "```"
   ]
  },
  {
   "cell_type": "markdown",
   "id": "db43ec11-470d-4d0f-bf5d-ff168c7d6432",
   "metadata": {
    "jp-MarkdownHeadingCollapsed": true
   },
   "source": [
    "# 2. Wartość merytoryczna rozwiązania"
   ]
  },
  {
   "cell_type": "markdown",
   "id": "6dd41678-e554-47c3-b3ab-45262a1b0eb3",
   "metadata": {
    "jp-MarkdownHeadingCollapsed": true
   },
   "source": [
    "# 3. Wizualizacja rozwiązania"
   ]
  }
 ],
 "metadata": {
  "kernelspec": {
   "display_name": "Python 3 (ipykernel)",
   "language": "python",
   "name": "python3"
  },
  "language_info": {
   "codemirror_mode": {
    "name": "ipython",
    "version": 3
   },
   "file_extension": ".py",
   "mimetype": "text/x-python",
   "name": "python",
   "nbconvert_exporter": "python",
   "pygments_lexer": "ipython3",
   "version": "3.12.7"
  }
 },
 "nbformat": 4,
 "nbformat_minor": 5
}
