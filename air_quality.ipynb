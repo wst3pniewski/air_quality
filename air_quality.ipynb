{
 "cells": [
  {
   "cell_type": "markdown",
   "id": "7d1f479d-f6c3-47d6-838f-9c2340207384",
   "metadata": {},
   "source": [
    "# 1. Cel i zakres projektu"
   ]
  },
  {
   "cell_type": "markdown",
   "id": "e485f51d-e291-434a-8d77-59ca48677a05",
   "metadata": {
    "jp-MarkdownHeadingCollapsed": true
   },
   "source": [
    "### Cel"
   ]
  },
  {
   "cell_type": "markdown",
   "id": "b95ed16a-2d75-4f00-a54c-c3de61d8dad0",
   "metadata": {},
   "source": [
    "Głównym celem projektu jest analiza jakości powietrza w Polsce na podstawie danych dotyczących różnych wskaźników czystości powietrza (pyły PM2.5, PM10) zbieranych z różnych stacji pomiarowych na terenie kraju.\n",
    "\n",
    "**Projekt ma na celu:**\n",
    "\n",
    "    1. Identyfikację obszarów o najwyższym i najniższym poziomie zanieczyszczeń.\n",
    "\n",
    "    2. Analizę trendów czasowych (np. sezonowych) w stężeniach zanieczyszczeń.\n",
    "\n",
    "    3. Dostarczenie informacji dla decydentów i społeczeństwa, które mogą przyczynić się do poprawy jakości powietrza."
   ]
  },
  {
   "cell_type": "markdown",
   "id": "584127b5-8109-4112-a8fa-53d80976c93b",
   "metadata": {
    "jp-MarkdownHeadingCollapsed": true
   },
   "source": [
    "### Zakres"
   ]
  },
  {
   "cell_type": "markdown",
   "id": "a84b9cf1-0435-4530-92f5-3578e50f8c02",
   "metadata": {},
   "source": [
    "#### Dane: \n",
    "    Wykorzystane zostaną dane z różnych stacji pomiarowych na terenie Polski, zawierające informacje o stężeniach zanieczyszczeń powietrza (z powodu małej ilości stacji pomiarowych zbierające dane o innych zanieczyszczeniach zdecydowaliśmy się na analizy stężeń pyłów PM2.5 i PM10). Dane zostały pozyskane ze strony internetowej Głównego Inspektoratu Ochrony Środowiska (https://powietrze.gios.gov.pl)."
   ]
  },
  {
   "cell_type": "markdown",
   "id": "eb46e700-89b2-485f-8e44-e0c93191b76f",
   "metadata": {},
   "source": [
    "#### Analiza: \n",
    "    Dane zostaną poddane analizie statystycznej i przestrzennej, w tym:\n",
    "    \n",
    "    - Mapowanie stężeń zanieczyszczeń.\n",
    "    \n",
    "    - Identyfikacja obszarów o najwyższym i najniższym poziomie zanieczyszczeń.\n",
    "    \n",
    "    - Analiza trendów czasowych."
   ]
  },
  {
   "cell_type": "markdown",
   "id": "d0413430-2eec-49a8-b5bf-d30df461bc28",
   "metadata": {},
   "source": [
    "#### Wyniki: \n",
    "    Projekt dostarczy wizualizacje, które będą mogły być wykorzystane do podejmowania decyzji dotyczących ochrony środowiska i zdrowia publicznego."
   ]
  },
  {
   "cell_type": "markdown",
   "id": "25931b07-a71b-4935-ad0e-0701acfbef7b",
   "metadata": {
    "jp-MarkdownHeadingCollapsed": true
   },
   "source": [
    "## 2. Dataset"
   ]
  },
  {
   "cell_type": "markdown",
   "id": "f9db469c-639b-4f8f-99a1-ab820d6ca55a",
   "metadata": {},
   "source": [
    "### Opis danych\n",
    "Każdy rekord z rekordów jest uśrednionym pomiarem danego wskaźnika z 24 godzin, zrealizowanym w konkretnej lokalizacji."
   ]
  },
  {
   "cell_type": "markdown",
   "id": "875dfc84-9c60-410f-90e2-78d552c03a62",
   "metadata": {},
   "source": [
    "| Nazwa kolumny       | Opis                                                                 |\n",
    "|---------------------|---------------------------------------------------------------------|\n",
    "| `kod_stacji`        | Unikalny kod identyfikujący stację pomiarową.                       |\n",
    "| `wskaznik`          | Rodzaj mierzonego wskaźnika (np. PM2.5, PM10, NO2).                 |\n",
    "| `czas_usredniania`  | Okres uśredniania pomiarów (np. 1 godzina, 24 godziny).             |\n",
    "| `jednostka`         | Jednostka miary dla wskaźnika (np. µg/m³).                          |\n",
    "| `data`              | Data pomiaru.                                                       |\n",
    "| `pomiar`            | Zmierzona wartość wskaźnika.                                        |\n",
    "| `stary_kod_stacji`  | Poprzedni kod stacji (jeśli istnieje).                              |\n",
    "| `typ_obszaru`       | Typ obszaru, na którym znajduje się stacja (np. miejski, wiejski).  |\n",
    "| `rodzaj_stacji`     | Rodzaj stacji pomiarowej (np. tło, komunikacyjna).                  |\n",
    "| `wojewodztwo`       | Województwo, w którym znajduje się stacja.                          |\n",
    "| `miejscowosc`       | Miejscowość, w której znajduje się stacja.                          |\n",
    "| `latitude`          | Szerokość geograficzna stacji pomiarowej.                           |\n",
    "| `longitude`         | Długość geograficzna stacji pomiarowej.                             |"
   ]
  },
  {
   "cell_type": "markdown",
   "id": "5cecd54b-5363-4049-818f-406927d788c5",
   "metadata": {},
   "source": [
    "Dataset został stworzony wstępnie w programie Excel (transpozycje, usunięcie zbędnych kolumn), a następnie przekształcony do potrzebnego nam formatu w pythonie za pomocą biblioteki pandas:\n",
    "```python\n",
    "import pandas as pd\n",
    "\n",
    "def merge_measures_with_stations_data(df_data, df_stations_data, new_file_name: str, year: str):\n",
    "    df_data_melted = df_data.melt(id_vars=['kod_stacji', 'wskaznik', 'czas_usredniania', 'jednostka'], var_name='data', value_name='pomiar')\n",
    "    merged = pd.merge(df_data_melted, df_stations_data, on='kod_stacji', how='inner')\n",
    "    merged['data'] = pd.to_datetime(merged['data'], format='%d-%m-%Y')\n",
    "    merged.to_csv(f'data/{year}/{new_file_name}.csv', index=False)\n",
    "\n",
    "df_stations = pd.read_excel('data/metadane_kody_stacji_i_stanowisk_pomiarowych.xlsx')\n",
    "df_2023_pm_10 = pd.read_excel('data/2023/2023_PM10_24h_formatted.xlsx')\n",
    "df_2022_pm_10 = pd.read_excel('data/2022/2022_PM10_24h_formatted.xlsx')\n",
    "df_2021_pm_10 = pd.read_excel('data/2021/2021_PM10_24h_formatted.xlsx')\n",
    "\n",
    "df_2023_pm_25 = pd.read_excel('data/2023/2023_PM25_24h_formatted.xlsx')\n",
    "df_2022_pm_25 = pd.read_excel('data/2022/2022_PM25_24h_formatted.xlsx')\n",
    "df_2021_pm_25 = pd.read_excel('data/2021/2021_PM25_24h_formatted.xlsx')\n",
    "\n",
    "merge_measures_with_stations_data(df_2023_pm_10, df_stations, '2023_pm10_merged', '2023')\n",
    "merge_measures_with_stations_data(df_2022_pm_10, df_stations, '2022_pm10_merged', '2022')\n",
    "merge_measures_with_stations_data(df_2021_pm_10, df_stations, '2021_pm10_merged', '2021')\n",
    "\n",
    "merge_measures_with_stations_data(df_2023_pm_10, df_stations, '2023_pm25_merged', '2023')\n",
    "merge_measures_with_stations_data(df_2022_pm_10, df_stations, '2022_pm25_merged', '2022')\n",
    "merge_measures_with_stations_data(df_2021_pm_10, df_stations, '2021_pm25_merged', '2021')\n",
    "```"
   ]
  },
  {
   "cell_type": "markdown",
   "id": "2eccfa27-0e0c-454a-bf20-6b68bc853263",
   "metadata": {},
   "source": [
    "Dane geometryczne są w systemie odniesienia: **WGS84**, oparty na nim system przestrzenny to: **EPSG:4326**."
   ]
  },
  {
   "cell_type": "markdown",
   "id": "db43ec11-470d-4d0f-bf5d-ff168c7d6432",
   "metadata": {},
   "source": [
    "# 2. Analiza i wizualizacja"
   ]
  },
  {
   "cell_type": "markdown",
   "id": "1aea57c4-3095-428e-87c8-12941e659845",
   "metadata": {},
   "source": [
    "### Wczytanie danych"
   ]
  },
  {
   "cell_type": "code",
   "execution_count": null,
   "id": "f8a8c14e-fa98-449b-97e8-ace8790499c0",
   "metadata": {},
   "outputs": [],
   "source": [
    "import pandas as pd\n",
    "import geopandas as gpd\n",
    "import matplotlib.pyplot as plt\n",
    "import folium\n",
    "from folium.plugins import HeatMap, MarkerCluster, TimestampedGeoJson\n",
    "import contextily as ctx\n",
    "import matplotlib.pyplot as plt\n",
    "import seaborn as sns\n",
    "import mapclassify\n",
    "import calendar\n",
    "import warnings\n",
    "\n",
    "sns.set_style(\"darkgrid\")\n",
    "warnings.filterwarnings('ignore')"
   ]
  },
  {
   "cell_type": "code",
   "execution_count": null,
   "id": "5f8f1de7-0c3b-4b82-9b6b-c13a8cb58716",
   "metadata": {},
   "outputs": [],
   "source": [
    "df_2023_pm_10 = pd.read_csv('data/2023/2023_pm10_merged.csv') \n",
    "df_2022_pm_10 = pd.read_csv('data/2022/2022_pm10_merged.csv') \n",
    "df_2021_pm_10 = pd.read_csv('data/2021/2021_pm10_merged.csv')\n",
    "\n",
    "df_2023_pm_25 = pd.read_csv('data/2023/2023_pm25_merged.csv') \n",
    "df_2022_pm_25 = pd.read_csv('data/2022/2022_pm25_merged.csv') \n",
    "df_2021_pm_25 = pd.read_csv('data/2021/2021_pm25_merged.csv')"
   ]
  },
  {
   "cell_type": "code",
   "execution_count": null,
   "id": "c9f7864e-9d74-4227-a35f-39234693bfc6",
   "metadata": {},
   "outputs": [],
   "source": [
    "geometry_pm_10_2023 = gpd.points_from_xy(df_2023_pm_10['longitude'], df_2023_pm_10['latitude'])\n",
    "geometry_pm_10_2022 = gpd.points_from_xy(df_2022_pm_10['longitude'], df_2022_pm_10['latitude'])\n",
    "geometry_pm_10_2021 = gpd.points_from_xy(df_2021_pm_10['longitude'], df_2021_pm_10['latitude'])\n",
    "\n",
    "geometry_pm_25_2023 = gpd.points_from_xy(df_2023_pm_25['longitude'], df_2023_pm_25['latitude'])\n",
    "geometry_pm_25_2022 = gpd.points_from_xy(df_2022_pm_25['longitude'], df_2022_pm_25['latitude'])\n",
    "geometry_pm_25_2021 = gpd.points_from_xy(df_2021_pm_25['longitude'], df_2021_pm_25['latitude'])"
   ]
  },
  {
   "cell_type": "code",
   "execution_count": null,
   "id": "d2b1038d-4ee8-487e-ae5c-d7d085a4f4b0",
   "metadata": {},
   "outputs": [],
   "source": [
    "gdf_2023_pm_10 = gpd.GeoDataFrame(df_2023_pm_10, geometry=geometry_pm_10_2023)\n",
    "gdf_2022_pm_10 = gpd.GeoDataFrame(df_2022_pm_10, geometry=geometry_pm_10_2022)\n",
    "gdf_2021_pm_10 = gpd.GeoDataFrame(df_2021_pm_10, geometry=geometry_pm_10_2021)\n",
    "\n",
    "gdf_2023_pm_25 = gpd.GeoDataFrame(df_2023_pm_25, geometry=geometry_pm_25_2023)\n",
    "gdf_2022_pm_25 = gpd.GeoDataFrame(df_2022_pm_25, geometry=geometry_pm_25_2022)\n",
    "gdf_2021_pm_25 = gpd.GeoDataFrame(df_2021_pm_25, geometry=geometry_pm_25_2021)"
   ]
  },
  {
   "cell_type": "code",
   "execution_count": null,
   "id": "9ec63235-e18b-415d-aaec-49103675fa4c",
   "metadata": {},
   "outputs": [],
   "source": [
    "gdf_2023_pm_10.set_crs(epsg=4326, inplace=True)\n",
    "gdf_2022_pm_10.set_crs(epsg=4326, inplace=True)\n",
    "gdf_2021_pm_10.set_crs(epsg=4326, inplace=True);\n",
    "\n",
    "gdf_2023_pm_25.set_crs(epsg=4326, inplace=True)\n",
    "gdf_2022_pm_25.set_crs(epsg=4326, inplace=True)\n",
    "gdf_2021_pm_25.set_crs(epsg=4326, inplace=True);"
   ]
  },
  {
   "cell_type": "markdown",
   "id": "f02b907f-13e3-4348-9278-b28b8e783eed",
   "metadata": {},
   "source": [
    "### Dostępność punktów pomiarowych względem lat"
   ]
  },
  {
   "cell_type": "code",
   "execution_count": null,
   "id": "60804946-c8ed-4600-9b5a-875e0992e174",
   "metadata": {},
   "outputs": [],
   "source": [
    "measuring_stations_2023_num = len(gdf_2023_pm_10.kod_stacji.unique())\n",
    "measuring_stations_2022_num = len(gdf_2022_pm_10.kod_stacji.unique())\n",
    "measuring_stations_2021_num = len(gdf_2021_pm_10.kod_stacji.unique())\n",
    "print(f'Liczba stacji pomiarowych w roku 2023: {measuring_stations_2023_num}.')\n",
    "print(f'Liczba stacji pomiarowych w roku 2022: {measuring_stations_2022_num}.')\n",
    "print(f'Liczba stacji pomiarowych w roku 2021: {measuring_stations_2021_num}.')"
   ]
  },
  {
   "cell_type": "markdown",
   "id": "44b4403e-dcf0-4d81-be62-9135ca103b28",
   "metadata": {},
   "source": [
    "**Ze wstępnej analizy wynika, że liczba stacji pomiarowych (pył PM10) maleje z roku na rok.**"
   ]
  },
  {
   "cell_type": "markdown",
   "id": "f03e7269-c7d0-4725-a58c-e370ad1db70f",
   "metadata": {},
   "source": [
    "### Wizualizacja dostępnych stacji w poszczególnych latach"
   ]
  },
  {
   "cell_type": "code",
   "execution_count": null,
   "id": "5b8bf4dc-09b3-4684-93b0-c85a208cd263",
   "metadata": {},
   "outputs": [],
   "source": [
    "gdf_2021_web_mercator = gdf_2021_pm_10.to_crs(epsg=3857)\n",
    "gdf_2022_web_mercator = gdf_2022_pm_10.to_crs(epsg=3857)\n",
    "gdf_2023_web_mercator = gdf_2023_pm_10.to_crs(epsg=3857)\n",
    "\n",
    "fig, axes = plt.subplots(3, 1, figsize=(20, 15))\n",
    "years = [(\"2021\", gdf_2021_web_mercator), (\"2022\", gdf_2022_web_mercator), (\"2023\", gdf_2023_web_mercator)]\n",
    "\n",
    "for ax, (year, gdf) in zip(axes, years):\n",
    "    gdf.plot(ax=ax, marker='o', color='blue', markersize=5, alpha=0.7)\n",
    "    \n",
    "    ctx.add_basemap(ax, source=ctx.providers.OpenStreetMap.Mapnik)\n",
    "    \n",
    "    ax.set_title(f\"Dane dla roku {year}\", fontsize=14)\n",
    "\n",
    "plt.tight_layout()\n",
    "plt.show()"
   ]
  },
  {
   "cell_type": "markdown",
   "id": "8ee09521-e421-4100-8469-49df0040337f",
   "metadata": {},
   "source": [
    "### Przygotowanie danych do map interaktywnych"
   ]
  },
  {
   "cell_type": "code",
   "execution_count": null,
   "id": "99b2f642-a585-4ff5-bcdc-8d8a4df4d687",
   "metadata": {},
   "outputs": [],
   "source": [
    "coordinates_2021 = gdf_2021_pm_10[['latitude', 'longitude']].values.tolist()\n",
    "coordinates_2022 = gdf_2022_pm_10[['latitude', 'longitude']].values.tolist()\n",
    "coordinates_2023 = gdf_2023_pm_10[['latitude', 'longitude']].values.tolist()\n",
    "\n",
    "coordinates_2021 = list(set(map(tuple, coordinates_2021)))\n",
    "coordinates_2022 = list(set(map(tuple, coordinates_2022)))\n",
    "coordinates_2023 = list(set(map(tuple, coordinates_2023)))\n",
    "\n",
    "poland_center_lat = 51.9194\n",
    "poland_center_lon = 19.1451"
   ]
  },
  {
   "cell_type": "markdown",
   "id": "8f14d9c7-bc68-463b-b718-075e0ea5215e",
   "metadata": {},
   "source": [
    "### Mapy ciepła dla stacji pomiarowych w poszczególnych latach"
   ]
  },
  {
   "cell_type": "code",
   "execution_count": null,
   "id": "ac963e43-297d-48bb-8727-e29bf25ccf1f",
   "metadata": {},
   "outputs": [],
   "source": [
    "m = folium.Map(location=[poland_center_lat, poland_center_lon], zoom_start=6, control_scale=True)\n",
    "\n",
    "fg_2021 = folium.FeatureGroup(name=\"Heatmap 2021\", show=False)\n",
    "fg_2022 = folium.FeatureGroup(name=\"Heatmap 2022\", show=False)\n",
    "fg_2023 = folium.FeatureGroup(name=\"Heatmap 2023\", show=False)\n",
    "\n",
    "HeatMap(coordinates_2021, radius=15).add_to(fg_2021)\n",
    "HeatMap(coordinates_2022, radius=15).add_to(fg_2022)\n",
    "HeatMap(coordinates_2023, radius=15).add_to(fg_2023)\n",
    "\n",
    "fg_2021.add_to(m)\n",
    "fg_2022.add_to(m)\n",
    "fg_2023.add_to(m)\n",
    "\n",
    "folium.LayerControl().add_to(m)\n",
    "\n",
    "m"
   ]
  },
  {
   "cell_type": "markdown",
   "id": "90ce0a2c-4f40-409d-bd1e-32401749ef0a",
   "metadata": {},
   "source": [
    "### Interaktywna wizualizacja dostępnych stacji w poszczególnych latach (zgrupowane znaczniki)"
   ]
  },
  {
   "cell_type": "code",
   "execution_count": null,
   "id": "55530670-418c-40e1-89f8-e4420ccfef8b",
   "metadata": {},
   "outputs": [],
   "source": [
    "m = folium.Map(location=[poland_center_lat, poland_center_lon], zoom_start=6, control_scale=True)\n",
    "\n",
    "fg_2021 = folium.FeatureGroup(name=\"2021\", show=False)\n",
    "fg_2022 = folium.FeatureGroup(name=\"2022\", show=False)\n",
    "fg_2023 = folium.FeatureGroup(name=\"2023\", show=False)\n",
    "\n",
    "marker_cluster_2021 = MarkerCluster(name=\"Stacje pomiarowe 2021\").add_to(fg_2021)\n",
    "marker_cluster_2022 = MarkerCluster(name=\"Stacje pomiarowe 2022\").add_to(fg_2022)\n",
    "marker_cluster_2023 = MarkerCluster(name=\"Stacje pomiarowe 2023\").add_to(fg_2023)\n",
    "\n",
    "unique_stations_2021 = gdf_2021_pm_10.groupby('kod_stacji').first().reset_index()\n",
    "unique_stations_2022 = gdf_2022_pm_10.groupby('kod_stacji').first().reset_index()\n",
    "unique_stations_2023 = gdf_2023_pm_10.groupby('kod_stacji').first().reset_index()\n",
    "\n",
    "def get_icon(row):\n",
    "    if row['typ_obszaru'] == 'miejski':\n",
    "        return folium.Icon(color='blue', icon='city', prefix='fa')\n",
    "    elif row['typ_obszaru'] == 'podmiejski':\n",
    "        return folium.Icon(color='green', icon='tree', prefix='fa')\n",
    "    elif row['typ_obszaru'] == 'pozamiejski':\n",
    "        return folium.Icon(color='lightblue', icon='tree-city', prefix='fa')\n",
    "\n",
    "for _, row in unique_stations_2021.iterrows():\n",
    "    folium.Marker(\n",
    "        location=[row['latitude'], row['longitude']],\n",
    "        tooltip=row['miejscowosc'],\n",
    "        popup=f\"Kod stacji: {row['kod_stacji']}<br><br>Typ obszaru: {row['typ_obszaru']}<br><br>Rodzaj stacji: {row['rodzaj_stacji']}\",\n",
    "        icon=get_icon(row)\n",
    "    ).add_to(marker_cluster_2021)\n",
    "\n",
    "for _, row in unique_stations_2022.iterrows():\n",
    "    folium.Marker(\n",
    "        location=[row['latitude'], row['longitude']],\n",
    "        tooltip=row['miejscowosc'],\n",
    "        popup=f\"Kod stacji: {row['kod_stacji']}<br><br>Typ obszaru: {row['typ_obszaru']}<br><br>Rodzaj stacji: {row['rodzaj_stacji']}\",\n",
    "        icon=get_icon(row)\n",
    "    ).add_to(marker_cluster_2022)\n",
    "\n",
    "for _, row in unique_stations_2023.iterrows():\n",
    "    folium.Marker(\n",
    "        location=[row['latitude'], row['longitude']],\n",
    "        tooltip=row['miejscowosc'],\n",
    "        popup=f\"Kod stacji: {row['kod_stacji']}<br><br>Typ obszaru: {row['typ_obszaru']}<br><br>Rodzaj stacji: {row['rodzaj_stacji']}\",\n",
    "        icon=get_icon(row)\n",
    "    ).add_to(marker_cluster_2023)\n",
    "\n",
    "fg_2021.add_to(m)\n",
    "fg_2022.add_to(m)\n",
    "fg_2023.add_to(m)\n",
    "\n",
    "folium.LayerControl().add_to(m)\n",
    "\n",
    "m"
   ]
  },
  {
   "cell_type": "markdown",
   "id": "2c98d7d0-8b62-4cf3-9051-cecf23e0c1cf",
   "metadata": {},
   "source": [
    "##### Po wstępnej analizie (wizualnej) powyższych map postanowiliśmy sprawdzić jak zmienia się liczba aktywnych stacji pomiarowych w poszczególnych województwach."
   ]
  },
  {
   "cell_type": "code",
   "execution_count": null,
   "id": "cdef8173-3ff0-4423-b423-4502ffab7b28",
   "metadata": {},
   "outputs": [],
   "source": [
    "measuring_stations_2023_by_voivodeships = df_2023_pm_10.groupby('wojewodztwo')['kod_stacji'].nunique()\n",
    "measuring_stations_2022_by_voivodeships = df_2022_pm_10.groupby('wojewodztwo')['kod_stacji'].nunique()\n",
    "measuring_stations_2021_by_voivodeships = df_2021_pm_10.groupby('wojewodztwo')['kod_stacji'].nunique()\n",
    "print(f'Rok 2023:\\n{measuring_stations_2023_by_voivodeships}')\n",
    "print('='*30)\n",
    "print(f'Rok 2022:\\n{measuring_stations_2022_by_voivodeships}')\n",
    "print('='*30)\n",
    "print(f'Rok 2021:\\n{measuring_stations_2021_by_voivodeships}')"
   ]
  },
  {
   "cell_type": "code",
   "execution_count": null,
   "id": "adc4aa6e-9d04-4e60-bf3f-f1bce2bb225d",
   "metadata": {},
   "outputs": [],
   "source": [
    "measuring_stations_by_voivodeships = pd.DataFrame({\n",
    "    '2021': measuring_stations_2021_by_voivodeships,\n",
    "    '2022': measuring_stations_2022_by_voivodeships,\n",
    "    '2023': measuring_stations_2023_by_voivodeships\n",
    "}).fillna(0).astype(int)\n",
    "\n",
    "measuring_stations_by_voivodeships['Difference_2022_2021'] = measuring_stations_by_voivodeships['2022'] - measuring_stations_by_voivodeships['2021']\n",
    "measuring_stations_by_voivodeships['Difference_2023_2022'] = measuring_stations_by_voivodeships['2023'] - measuring_stations_by_voivodeships['2022']\n",
    "measuring_stations_by_voivodeships['Difference_2023_2021'] = measuring_stations_by_voivodeships['2023'] - measuring_stations_by_voivodeships['2021']\n",
    "\n",
    "measuring_stations_by_voivodeships"
   ]
  },
  {
   "cell_type": "code",
   "execution_count": null,
   "id": "9948985f-4e00-4234-a133-d92dee74caa7",
   "metadata": {},
   "outputs": [],
   "source": [
    "measuring_stations_by_voivodeships.describe()"
   ]
  },
  {
   "cell_type": "markdown",
   "id": "fbd6aa6c-4fbe-448c-856e-bd82a6450119",
   "metadata": {},
   "source": [
    "Na podstawie powyższych tabel można zauważyć, że każde województwo posiada co najmniej cztery stacje pomiarowe (województwa opolskie i polaskie). Najwięcej stacji pomiarowych znajduje się natomiast w województwie małopolskim. W zakresie zmienności liczby stacji pomiarowych, odnotowano maksymalny wzrost o jedną stację, a maksymalny spadek na poziomie dwóch stacji."
   ]
  },
  {
   "cell_type": "markdown",
   "id": "69c82cda-98e9-4ace-9768-f293e9043f7e",
   "metadata": {},
   "source": [
    "### Analiza jakości powietrza"
   ]
  },
  {
   "cell_type": "markdown",
   "id": "a1bf4ce5-a6b8-49b9-9ed9-45ad83fb2919",
   "metadata": {},
   "source": [
    "**Ocena jakości powietrza w stosunku do stężenia pyłu PM10 i PM2.5 (dane z GIOŚ):**\n",
    "\n",
    "**PM10**\n",
    "| Zakres stężeń (µg/m³) | Kategoria jakości powietrza |\n",
    "|------------------------|-----------------------------|\n",
    "| 0 - 20                 | Bardzo dobry                |\n",
    "| 20.1 - 50              | Dobry                       |\n",
    "| 50.1 - 80              | Umiarkowany                 |\n",
    "| 80.1 - 110             | Dostateczny                 |\n",
    "| 110.1 - 150            | Zły                         |\n",
    "| > 150                  | Bardzo zły                  |\n",
    "\n",
    "**PM2.5**\n",
    "| Zakres stężenia (µg/m³) | Poziom jakości powietrza |\n",
    "|-------------------------|-------------------------|\n",
    "| 0 - 13                 | Bardzo dobry           |\n",
    "| 13.1 - 35              | Dobry                  |\n",
    "| 35.1 - 55              | Umiarkowany            |\n",
    "| 55.1 - 75              | Dostateczny            |\n",
    "| 75.1 - 110             | Zły                    |\n",
    "| > 110                  | Bardzo zły             |\n"
   ]
  },
  {
   "cell_type": "code",
   "execution_count": null,
   "id": "7b1053cc-7df2-47a0-b91e-cb03eb509b23",
   "metadata": {},
   "outputs": [],
   "source": [
    "gdf_2023_pm_10_cleaned = gdf_2023_pm_10.dropna(subset=['pomiar'])\n",
    "gdf_2022_pm_10_cleaned = gdf_2022_pm_10.dropna(subset=['pomiar'])\n",
    "gdf_2021_pm_10_cleaned = gdf_2021_pm_10.dropna(subset=['pomiar'])\n",
    "\n",
    "gdf_2023_pm_25_cleaned = gdf_2023_pm_25.dropna(subset=['pomiar'])\n",
    "gdf_2022_pm_25_cleaned = gdf_2022_pm_25.dropna(subset=['pomiar'])\n",
    "gdf_2021_pm_25_cleaned = gdf_2021_pm_25.dropna(subset=['pomiar'])\n",
    "\n",
    "bins = [0, 20, 50, 80, 110, 150]\n",
    "classifier = mapclassify.UserDefined.make(bins=bins)\n",
    "\n",
    "categories = {\n",
    "    1: 'Bardzo dobry',\n",
    "    2: 'Dobry',\n",
    "    3: 'Umiarkowany',\n",
    "    4: 'Dostateczny',\n",
    "    5: 'Zły',\n",
    "    6: 'Bardzo zły'\n",
    "}\n",
    "\n",
    "gdf_2023_pm_10_cleaned['class'] = classifier(gdf_2023_pm_10_cleaned['pomiar'])\n",
    "gdf_2022_pm_10_cleaned['class'] = classifier(gdf_2022_pm_10_cleaned['pomiar'])\n",
    "gdf_2021_pm_10_cleaned['class'] = classifier(gdf_2021_pm_10_cleaned['pomiar'])\n",
    "\n",
    "\n",
    "gdf_2023_pm_10_cleaned['jakosc_powietrza'] = gdf_2023_pm_10_cleaned['class'].map(categories)\n",
    "gdf_2022_pm_10_cleaned['jakosc_powietrza'] = gdf_2022_pm_10_cleaned['class'].map(categories)\n",
    "gdf_2021_pm_10_cleaned['jakosc_powietrza'] = gdf_2021_pm_10_cleaned['class'].map(categories)"
   ]
  },
  {
   "cell_type": "code",
   "execution_count": null,
   "id": "61a4c990-cb81-4318-95a4-16c1857996be",
   "metadata": {},
   "outputs": [],
   "source": [
    "gdf_voivodeships = gpd.read_file('data/wojewodztwa/wojewodztwa.shp')\n",
    "gdf_voivodeships = gdf_voivodeships.to_crs(epsg=4326)"
   ]
  },
  {
   "cell_type": "code",
   "execution_count": null,
   "id": "bc6cf8df-51d7-4a5a-bc80-2a50b3530f87",
   "metadata": {},
   "outputs": [],
   "source": [
    "NUM_OF_VOIVODESHIPS = 16\n",
    "assert len(gdf_voivodeships['JPT_NAZWA_'].unique()) == NUM_OF_VOIVODESHIPS, 'Not all voivodeships available'\n",
    "assert len(gdf_2023_pm_10['wojewodztwo'].unique()) == NUM_OF_VOIVODESHIPS, 'Not all voivodeships available'\n",
    "assert len(gdf_2022_pm_10['wojewodztwo'].unique()) == NUM_OF_VOIVODESHIPS, 'Not all voivodeships available'\n",
    "assert len(gdf_2021_pm_10['wojewodztwo'].unique()) == NUM_OF_VOIVODESHIPS, 'Not all voivodeships available'"
   ]
  },
  {
   "cell_type": "code",
   "execution_count": null,
   "id": "ee827fee-fa4a-40cc-9a0e-97612890c1cc",
   "metadata": {},
   "outputs": [],
   "source": [
    "gdf_voivodeships['wojewodztwo'] = gdf_voivodeships['JPT_NAZWA_'].str.upper()"
   ]
  },
  {
   "cell_type": "markdown",
   "id": "f4a4a7ec-0ba3-4577-808e-6e50872ea6d1",
   "metadata": {},
   "source": [
    "#### Średnie roczne stężenie pyłu PM10 i PM2.5 w poszczególnych województwach"
   ]
  },
  {
   "cell_type": "code",
   "execution_count": null,
   "id": "c7a99ad7-13ca-4ac3-b0e2-06b71f3844f7",
   "metadata": {},
   "outputs": [],
   "source": [
    "mean_year_air_quality_pm_10_2023 = gdf_2023_pm_10_cleaned.groupby('wojewodztwo')['pomiar'].mean()\n",
    "mean_year_air_quality_pm_10_2022 = gdf_2022_pm_10_cleaned.groupby('wojewodztwo')['pomiar'].mean()\n",
    "mean_year_air_quality_pm_10_2021 = gdf_2021_pm_10_cleaned.groupby('wojewodztwo')['pomiar'].mean()\n",
    "\n",
    "gdf_voivodeships['mean_year_pm10_2023'] = gdf_voivodeships['wojewodztwo'].map(mean_year_air_quality_pm_10_2023)\n",
    "gdf_voivodeships['mean_year_pm10_2022'] = gdf_voivodeships['wojewodztwo'].map(mean_year_air_quality_pm_10_2022)\n",
    "gdf_voivodeships['mean_year_pm10_2021'] = gdf_voivodeships['wojewodztwo'].map(mean_year_air_quality_pm_10_2021)\n",
    "\n",
    "mean_year_air_quality_pm_25_2023 = gdf_2023_pm_25_cleaned.groupby('wojewodztwo')['pomiar'].mean()\n",
    "mean_year_air_quality_pm_25_2022 = gdf_2022_pm_25_cleaned.groupby('wojewodztwo')['pomiar'].mean()\n",
    "mean_year_air_quality_pm_25_2021 = gdf_2021_pm_25_cleaned.groupby('wojewodztwo')['pomiar'].mean()\n",
    "\n",
    "gdf_voivodeships['mean_year_pm25_2023'] = gdf_voivodeships['wojewodztwo'].map(mean_year_air_quality_pm_25_2023)\n",
    "gdf_voivodeships['mean_year_pm25_2022'] = gdf_voivodeships['wojewodztwo'].map(mean_year_air_quality_pm_25_2022)\n",
    "gdf_voivodeships['mean_year_pm25_2021'] = gdf_voivodeships['wojewodztwo'].map(mean_year_air_quality_pm_25_2021)\n",
    "\n",
    "bins_pm_10 = [0, 20, 50, 80, 110, 150]\n",
    "bins_pm_25 = [0, 13, 35, 55, 75, 110]\n",
    "\n",
    "m = folium.Map(location=[poland_center_lat, poland_center_lon], zoom_start=6, control_scale=True)\n",
    "\n",
    "chloropleth_pm_10_2023 = folium.Choropleth(\n",
    "    geo_data=gdf_voivodeships,\n",
    "    name='Średnie stężenie PM10 w roku 2023',\n",
    "    data=gdf_voivodeships,\n",
    "    columns=['wojewodztwo', 'mean_year_pm10_2023'],\n",
    "    key_on='feature.properties.wojewodztwo',\n",
    "    fill_color='BuPu',\n",
    "    fill_opacity=0.7,\n",
    "    line_opacity=0.2,\n",
    "    legend_name='Średnie roczne stężenie PM10 w powietrzu',\n",
    "    bins=bins_pm_10,\n",
    "    show=True\n",
    ").add_to(m)\n",
    "\n",
    "chloropleth_pm_10_2022 = folium.Choropleth(\n",
    "    geo_data=gdf_voivodeships,\n",
    "    name='Średnie stężenie PM10 w roku 2022',\n",
    "    data=gdf_voivodeships,\n",
    "    columns=['wojewodztwo', 'mean_year_pm10_2022'],\n",
    "    key_on='feature.properties.wojewodztwo',\n",
    "    fill_color='BuPu',\n",
    "    fill_opacity=0.7,\n",
    "    line_opacity=0.2,\n",
    "    bins=bins_pm_10,\n",
    "    show=False\n",
    ")\n",
    "\n",
    "chloropleth_pm_10_2021 = folium.Choropleth(\n",
    "    geo_data=gdf_voivodeships,\n",
    "    name='Średnie stężenie PM10 w roku 2021',\n",
    "    data=gdf_voivodeships,\n",
    "    columns=['wojewodztwo', 'mean_year_pm10_2021'],\n",
    "    key_on='feature.properties.wojewodztwo',\n",
    "    fill_color='BuPu',\n",
    "    fill_opacity=0.7,\n",
    "    line_opacity=0.2,\n",
    "    bins=bins_pm_10,\n",
    "    show=False\n",
    ").add_to(m)\n",
    "\n",
    "# remove legends\n",
    "for key in chloropleth_pm_10_2022._children:\n",
    "    if key.startswith('color_map'):\n",
    "        del(chloropleth_pm_10_2022._children[key])\n",
    "chloropleth_pm_10_2022.add_to(m)     \n",
    "\n",
    "for key in chloropleth_pm_10_2021._children:\n",
    "    if key.startswith('color_map'):\n",
    "        del(chloropleth_pm_10_2021._children[key])\n",
    "chloropleth_pm_10_2021.add_to(m)  \n",
    "\n",
    "chloropleth_pm_25_2023 = folium.Choropleth(\n",
    "    geo_data=gdf_voivodeships,\n",
    "    name='Średnie stężenie PM2.5 w roku 2023',\n",
    "    data=gdf_voivodeships,\n",
    "    columns=['wojewodztwo', 'mean_year_pm25_2023'],\n",
    "    key_on='feature.properties.wojewodztwo',\n",
    "    fill_color='BuPu',\n",
    "    fill_opacity=0.7,\n",
    "    line_opacity=0.2,\n",
    "    legend_name='Średnie roczne stężenie PM2.5 w powietrzu',\n",
    "    bins=bins_pm_25,\n",
    "    show=False\n",
    ").add_to(m)\n",
    "\n",
    "chloropleth_pm_25_2022 = folium.Choropleth(\n",
    "    geo_data=gdf_voivodeships,\n",
    "    name='Średnie stężenie PM2.5 w roku 2022',\n",
    "    data=gdf_voivodeships,\n",
    "    columns=['wojewodztwo', 'mean_year_pm25_2022'],\n",
    "    key_on='feature.properties.wojewodztwo',\n",
    "    fill_color='BuPu',\n",
    "    fill_opacity=0.7,\n",
    "    line_opacity=0.2,\n",
    "    bins=bins_pm_25,\n",
    "    show=False\n",
    ")\n",
    "\n",
    "chloropleth_pm_25_2021 = folium.Choropleth(\n",
    "    geo_data=gdf_voivodeships,\n",
    "    name='Średnie stężenie PM2.5 w roku 2021',\n",
    "    data=gdf_voivodeships,\n",
    "    columns=['wojewodztwo', 'mean_year_pm25_2021'],\n",
    "    key_on='feature.properties.wojewodztwo',\n",
    "    fill_color='BuPu',\n",
    "    fill_opacity=0.7,\n",
    "    line_opacity=0.2,\n",
    "    bins=bins_pm_25,\n",
    "    show=False\n",
    ").add_to(m)\n",
    "\n",
    "# remove legends\n",
    "for key in chloropleth_pm_25_2022._children:\n",
    "    if key.startswith('color_map'):\n",
    "        del(chloropleth_pm_25_2022._children[key])\n",
    "chloropleth_pm_25_2022.add_to(m)     \n",
    "\n",
    "for key in chloropleth_pm_25_2021._children:\n",
    "    if key.startswith('color_map'):\n",
    "        del(chloropleth_pm_25_2021._children[key])\n",
    "chloropleth_pm_25_2021.add_to(m)  \n",
    "\n",
    "folium.LayerControl().add_to(m)\n",
    "\n",
    "m"
   ]
  },
  {
   "cell_type": "markdown",
   "id": "92090173-93b1-41fc-996b-002f05c3ad3f",
   "metadata": {},
   "source": [
    "Na powyższej mapie możemy zaobserwować że uśrednione roczne stężeniu pyłu PM10 w latach 2021 i 2022 w większości województw jest klasyfikowana jako **Dobra** natomiast w województwie zachodniopomorskim jako **Bardzo dobra**. W roku 2023 możemy zaobserwować aż 8 województw w których jakość powietrze jest **Bardzo dobra**, a w pozostałych **Dobra**."
   ]
  },
  {
   "cell_type": "markdown",
   "id": "d937d91b-216b-4a40-8c52-2a70a0dc3730",
   "metadata": {},
   "source": [
    "#### Analiza liczby przypadających stacji na powierzchnię (w obrębie województwa)"
   ]
  },
  {
   "cell_type": "code",
   "execution_count": null,
   "id": "e4e10d93-3744-4d02-9a97-5039dc6a6551",
   "metadata": {},
   "outputs": [],
   "source": [
    "gdf_voivodeships = gdf_voivodeships.to_crs(epsg=2180)\n",
    "gdf_voivodeships['powierzchnia_km2'] = gdf_voivodeships.geometry.area / 1_000_000\n",
    "gdf_voivodeships = gdf_voivodeships.to_crs(epsg=4326)"
   ]
  },
  {
   "cell_type": "code",
   "execution_count": null,
   "id": "d6ffed42-dfd9-42c9-abe8-feb63e09fae0",
   "metadata": {},
   "outputs": [],
   "source": [
    "df_voivodeships_popn = pd.read_excel('data/populacja/populacja_w_wojewodztwach.xlsx')\n",
    "\n",
    "stations_per_voivodeship = gdf_2023_pm_10_cleaned.groupby('wojewodztwo')['kod_stacji'].nunique().reset_index()\n",
    "stations_per_voivodeship.rename(columns={'kod_stacji': 'liczba_stacji'}, inplace=True)\n",
    "\n",
    "gdf_2023_pm_10_area = pd.merge(stations_per_voivodeship, df_voivodeships_popn, how='inner', left_on='wojewodztwo', right_on='voivodeship')\n",
    "\n",
    "gdf_2023_pm_10_area = pd.merge(gdf_voivodeships[['wojewodztwo', 'powierzchnia_km2']], gdf_2023_pm_10_area, how='inner', left_on='wojewodztwo', right_on='voivodeship')\n",
    "gdf_2023_pm_10_area.drop(columns=['wojewodztwo_x', 'wojewodztwo_y'], axis=1, inplace=True)\n",
    "\n",
    "gdf_2023_pm_10_area = pd.merge(gdf_voivodeships[['wojewodztwo', 'mean_year_pm10_2023']], gdf_2023_pm_10_area, how='inner', left_on='wojewodztwo', right_on='voivodeship')\n",
    "\n",
    "gdf_2023_pm_10_area['stations_per_1000km2'] = gdf_2023_pm_10_area['liczba_stacji'] / gdf_2023_pm_10_area['powierzchnia_km2'] * 1_000\n",
    "gdf_2023_pm_10_area = gdf_2023_pm_10_area[['voivodeship', 'liczba_stacji','powierzchnia_km2', 'population',\n",
    "                                           'stations_per_1000km2', 'mean_year_pm10_2023']]\n",
    "\n",
    "gdf_2023_pm_10_area[['population', 'mean_year_pm10_2023']].corr()"
   ]
  },
  {
   "cell_type": "markdown",
   "id": "5a4bb0bb-38a2-438d-9754-f9123142e9fd",
   "metadata": {},
   "source": [
    "W powyższym podpunkcie została obliczona liczba stacji przypadających na 1000km2 (w obrębie województwa). Dodatkowo sprawdziliśmy czy występuje korelacja pomiędzy liczbą ludności w województwie a średnim rocznym stężeniem pyłu PM10 w roku 2023 (dla województwa). Obliczona korelacja (pearsona) jest korelacją silną (>0.5), możemy zatem wysunąć wniosek, że liczba ludności ma wpływ na zanieczyszczenie powietrza. Niestety dane, które posiadamy nie pozwalają na dalszą analizę w tym kierunku."
   ]
  },
  {
   "cell_type": "code",
   "execution_count": null,
   "id": "1cb857d8-7ba4-4151-97f0-5c394eca737c",
   "metadata": {},
   "outputs": [],
   "source": [
    "sns.barplot(data=gdf_2023_pm_10_area, y='voivodeship', x='stations_per_1000km2')\n",
    "plt.xlabel('Liczba stacji na 1000 km2')\n",
    "plt.ylabel('Województwa')\n",
    "plt.title('Liczba stacji pomiaru stężenia pyłu PM10 (na 1000 km2)')\n",
    "\n",
    "plt.show()"
   ]
  },
  {
   "cell_type": "code",
   "execution_count": null,
   "id": "02a14cd5-22f4-4562-84b4-a61383323a4b",
   "metadata": {},
   "outputs": [],
   "source": [
    "m = folium.Map(location=[poland_center_lat, poland_center_lon], zoom_start=6, control_scale=True)\n",
    "\n",
    "folium.Choropleth(\n",
    "    geo_data=gdf_voivodeships,\n",
    "    name='Stacje na 1000 km²',\n",
    "    data=gdf_2023_pm_10_area,\n",
    "    columns=['voivodeship', 'stations_per_1000km2'],\n",
    "    key_on='feature.properties.wojewodztwo',\n",
    "    fill_color='BuPu',\n",
    "    fill_opacity=0.7,\n",
    "    line_opacity=0.2,\n",
    "    legend_name='Liczba stacji na 1000 km2',\n",
    "    show=True\n",
    ").add_to(m)\n",
    "\n",
    "folium.LayerControl().add_to(m)\n",
    "\n",
    "m"
   ]
  },
  {
   "cell_type": "markdown",
   "id": "76b7d664-3e61-4ae8-9586-c5c82dd70911",
   "metadata": {},
   "source": [
    "W związku z obliczonym współczynnikiem liczby stacji przypadających na 1000km2 stworzyliśmy mapę pokazującą zróżnicowanie jego wartości względem województw. Wnioskując z powyższej mapy największa gęstość stacji pomiarowych występuje w województwach małopolskim i śląskim. Prawdopodobnie jest to związane z dominującymi sektorami gospodarki i charakterystyką ukształtowania terenu. Na podstawie powyższej mapy podejrzewamy, że instnieją w Polsce obszary które w żadnym stopniu nie są monitorowane (opierając analizę na dostępnych dla nas danych - informacje na stronie GIOŚ sugerują, że stacji pomiarowych jest znacznie więcej, nie znajdują się one jednak w analizowanym zbiorze danych)."
   ]
  },
  {
   "cell_type": "markdown",
   "id": "bdf6419e-2b72-4a7e-b0f3-3278f33229d6",
   "metadata": {},
   "source": [
    "Opierając się na naszym podejrzeniu dotyczącym brakiem stacji na niektórych terenach stworzyliśmy mapę zaznaczającą promień efektywnych pomiarów stężenia pyłu PM10 w powietrzu, niestety GIOŚ nie udostępnia takich informacji. Przyjeliśmy więc odpowiednio dla obszarów miejskich: 1km, dla podmiejskich: 2.5km, pozamiejskich: 10km. Takie wartości nie pozwalają na pokrycie całego obszaru Polski, co więcej nawet wartości podniesione o jeden rząd wielkości nie spełniają tego warunku. Jest zatem wysoko prawdopodobne, że niektóre obszary Polski nie są monitorowane."
   ]
  },
  {
   "cell_type": "code",
   "execution_count": null,
   "id": "8bee7e62-c264-420b-a029-0d288b45437e",
   "metadata": {},
   "outputs": [],
   "source": [
    "gdf_2023_pm_10_unique = gdf_2023_pm_10.drop_duplicates(subset='kod_stacji')\n",
    "\n",
    "buffer_settings = {\n",
    "    'miejski': {'radius': 1000, 'color': 'red'},\n",
    "    'podmiejski': {'radius': 2500, 'color': 'orange'},\n",
    "    'pozamiejski': {'radius': 10000, 'color': 'green'}\n",
    "}\n",
    "\n",
    "m = folium.Map(location=[poland_center_lat, poland_center_lon], zoom_start=6, control_scale=True)\n",
    "\n",
    "buffer_groups = {\n",
    "    typ: folium.FeatureGroup(name=f'Promień {typ} ({radius[\"radius\"]/1000} km)', show=False)\n",
    "    for typ, radius in buffer_settings.items()\n",
    "}\n",
    "def get_icon(row):\n",
    "    if row['typ_obszaru'] == 'miejski':\n",
    "        return folium.Icon(color='blue', icon='city', prefix='fa')\n",
    "    elif row['typ_obszaru'] == 'podmiejski':\n",
    "        return folium.Icon(color='green', icon='tree', prefix='fa')\n",
    "    elif row['typ_obszaru'] == 'pozamiejski':\n",
    "        return folium.Icon(color='lightblue', icon='tree-city', prefix='fa')\n",
    "\n",
    "\n",
    "for _, row in gdf_2023_pm_10_unique.iterrows():\n",
    "    \n",
    "    lat, lon = row.geometry.y, row.geometry.x\n",
    "    \n",
    "    popup = folium.Popup(\n",
    "        f\"<b>{row['miejscowosc']}</b><br>\"\n",
    "        f\"Typ obszaru: {row['typ_obszaru']}<br>\"\n",
    "        f\"Kod stacji: {row['kod_stacji']}\",\n",
    "        max_width=250\n",
    "    )\n",
    "    folium.Marker(\n",
    "        location=[lat, lon],\n",
    "        popup=popup,\n",
    "        icon=get_icon(row)\n",
    "    ).add_to(m)\n",
    "    \n",
    "    typ = row['typ_obszaru']\n",
    "    if typ in buffer_settings:\n",
    "        folium.Circle(\n",
    "            location=[lat, lon],\n",
    "            radius=buffer_settings[typ]['radius'],\n",
    "            color=buffer_settings[typ]['color'],\n",
    "            fill=True,\n",
    "            fill_opacity=0.2,\n",
    "            tooltip=f\"Promień {typ}: {buffer_settings[typ]['radius']} m\"\n",
    "        ).add_to(buffer_groups[typ])\n",
    "\n",
    "for group in buffer_groups.values():\n",
    "    group.add_to(m)\n",
    "\n",
    "folium.LayerControl(collapsed=False).add_to(m)\n",
    "\n",
    "m"
   ]
  },
  {
   "cell_type": "markdown",
   "id": "35f63634-7d05-47a9-b9f3-77716f8ecefd",
   "metadata": {},
   "source": [
    "#### Klasyfikacja jakości powietrza na podstawie stężenia pyłu PM10\n",
    "\n",
    "Poniższa animacja przedstawia dzienne zmiany wskaźnika jakości powietrza na podstawie stężenia pyłu PM10 na przestrzeni ostatnich trzech lat.\n",
    "\n",
    "Jakość powietrza dla tej mapy jest klasyfikowana na podstawie stężenia pyłu PM10 według następujących przedziałów:\n",
    "\n",
    "| Stężenie PM10 (µg/m³) | Klasyfikacja jakości powietrza | Kolor oznaczenia |\n",
    "|----------------------|--------------------------------|------------------------|\n",
    "| **0 – 20**           | **Bardzo dobra**               | 🟢 Jasnozielony       |\n",
    "| **20.1 – 50**        | **Dobra**                      | 🟡 Żółty              |\n",
    "| **50.1 – 80**        | **Umiarkowana**                | 🟠 Pomarańczowy       |\n",
    "| **80.1 – 110**       | **Dostateczna**                | 🟤 Ciemnopomarańczowy |\n",
    "| **110.1 – 150**      | **Zła**                        | 🔴 Czerwony           |\n",
    "| **> 150**            | **Bardzo zła**                 | 🔴 Ciemnoczerwony     |\n",
    "\n",
    "Każdy poziom jakości powietrza jest oznaczony odpowiednim kolorem, co ułatwia wizualizację stopnia zanieczyszczenia."
   ]
  },
  {
   "cell_type": "code",
   "execution_count": null,
   "id": "86264daf-225c-4789-99b4-83d3499699ab",
   "metadata": {},
   "outputs": [],
   "source": [
    "df_2023_pm_10 = pd.read_csv('data/2023/2023_pm10_merged.csv')\n",
    "df_2022_pm_10 = pd.read_csv('data/2022/2022_pm10_merged.csv')\n",
    "df_2021_pm_10 = pd.read_csv('data/2021/2021_pm10_merged.csv')\n",
    "\n",
    "df_combined = pd.concat([df_2023_pm_10, df_2022_pm_10, df_2021_pm_10])\n",
    "\n",
    "df_combined['data'] = pd.to_datetime(df_combined['data'])\n",
    "\n",
    "gdf_combined = gpd.GeoDataFrame(df_combined, geometry=gpd.points_from_xy(df_combined.longitude, df_combined.latitude))\n",
    "gdf_combined.set_crs(epsg=4326, inplace=True)\n",
    "\n",
    "bins = [0, 20, 50, 80, 110, 150]\n",
    "colors = ['#66FF66', '#FFFF00', '#FFCC00', '#FF9900', '#FF0000', '#990000']\n",
    "classifier = mapclassify.UserDefined.make(bins=bins)\n",
    "\n",
    "gdf_combined['class'] = classifier(gdf_combined['pomiar'])\n",
    "\n",
    "bin_colors = {i: color for i, color in enumerate(colors, 1)}\n",
    "\n",
    "m = folium.Map(location=[51.9194, 19.1451], zoom_start=6, control_scale=True)\n",
    "\n",
    "features = []\n",
    "for _, row in gdf_combined.iterrows():\n",
    "    class_value = row['class']\n",
    "    if class_value in bin_colors:\n",
    "        color = bin_colors[class_value]\n",
    "        feature = {\n",
    "            'type': 'Feature',\n",
    "            'geometry': {\n",
    "                'type': 'Point',\n",
    "                'coordinates': [row['longitude'], row['latitude']],\n",
    "            },\n",
    "            'properties': {\n",
    "                'time': row['data'].isoformat(),\n",
    "                'popup': f\"Kod stacji: {row['kod_stacji']}<br>Pomiar: {row['pomiar']} µg/m³\",\n",
    "                'icon': 'circle',\n",
    "                'iconstyle': {\n",
    "                    'fillColor': color,\n",
    "                    'fillOpacity': 1,\n",
    "                    'stroke': 'true',\n",
    "                    'radius': 7\n",
    "                }\n",
    "            }\n",
    "        }\n",
    "        features.append(feature)\n",
    "\n",
    "TimestampedGeoJson({\n",
    "    'type': 'FeatureCollection',\n",
    "    'features': features,\n",
    "}, period='P1D', add_last_point=True, auto_play=True, loop=True).add_to(m)\n",
    "\n",
    "m"
   ]
  },
  {
   "cell_type": "markdown",
   "id": "9f1362c4-5bfd-4406-9727-cacdd0ebf012",
   "metadata": {},
   "source": [
    "Obserwując animację można zauważyć, że w miesiącach zimowych i jesiennych jakość powietrze znacznie się pogarsza, przedstawiamy ten trend na poniższym wykresie."
   ]
  },
  {
   "cell_type": "code",
   "execution_count": null,
   "id": "a819010c-9752-40ec-9124-f3b711791e0b",
   "metadata": {},
   "outputs": [],
   "source": [
    "df_combined['month'] = df_combined['data'].dt.month\n",
    "\n",
    "pp = df_combined.groupby('month')['pomiar'].mean().reset_index()\n",
    "\n",
    "plt.figure(figsize=(12, 6))\n",
    "\n",
    "sns.lineplot(data=pp, x='month', y='pomiar')\n",
    "\n",
    "plt.xlabel('Miesiąc')\n",
    "plt.ylabel('Średni pomiar')\n",
    "plt.title('Średni pomiar stężenia pyłu PM10 w poszczególnych miesiącach')\n",
    "\n",
    "plt.xticks(ticks=range(1, 13), labels=[calendar.month_name[i] for i in range(1, 13)], rotation=45)\n",
    "\n",
    "plt.show()"
   ]
  },
  {
   "cell_type": "markdown",
   "id": "f062c04f-4d29-487e-aac0-0a16493892dd",
   "metadata": {},
   "source": [
    "# 3. Wnioski"
   ]
  },
  {
   "cell_type": "markdown",
   "id": "59e53f88-6492-4048-b269-eb740ad853f3",
   "metadata": {},
   "source": [
    "Na podstawie powyższych analiz możemy stwierdzić że:\n",
    "- prawdopodobnie ilość stacji pomiaru zanieczyszczeń powietrza w Polsce jest niewystarczająca\n",
    "- liczba ludności na danych obszarach ma silny wpływ na zanieczyszczenie powietrza (temat do dalszej analizy)\n",
    "- w miesiącach zimowych i jesiennych poziom zanieczyszczenia powietrze przerażająco rośnie (temat do dalszej analizy)"
   ]
  }
 ],
 "metadata": {
  "kernelspec": {
   "display_name": "Python 3 (ipykernel)",
   "language": "python",
   "name": "python3"
  },
  "language_info": {
   "codemirror_mode": {
    "name": "ipython",
    "version": 3
   },
   "file_extension": ".py",
   "mimetype": "text/x-python",
   "name": "python",
   "nbconvert_exporter": "python",
   "pygments_lexer": "ipython3",
   "version": "3.12.7"
  }
 },
 "nbformat": 4,
 "nbformat_minor": 5
}
