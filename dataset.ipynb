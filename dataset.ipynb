{
 "cells": [
  {
   "cell_type": "code",
   "execution_count": 1,
   "id": "2a169b99-ce67-4be8-b08b-d1067ba3a7e8",
   "metadata": {},
   "outputs": [],
   "source": [
    "import pandas as pd"
   ]
  },
  {
   "cell_type": "code",
   "execution_count": 2,
   "id": "f0c534b9-3a4d-4341-9b07-f3daa9e9ce9f",
   "metadata": {},
   "outputs": [],
   "source": [
    "def merge_measures_with_stations_data(df_data, df_stations_data, new_file_name: str, year: str):\n",
    "    df_data_melted = df_data.melt(id_vars=['kod_stacji', 'wskaznik', 'czas_usredniania', 'jednostka'], var_name='data', value_name='pomiar')\n",
    "    merged = pd.merge(df_data_melted, df_stations_data, on='kod_stacji', how='inner')\n",
    "    merged['data'] = pd.to_datetime(merged['data'], format='%d-%m-%Y')\n",
    "    merged.to_csv(f'data/{year}/{new_file_name}.csv', index=False)"
   ]
  },
  {
   "cell_type": "code",
   "execution_count": 3,
   "id": "131d17f8-72a4-4a2e-b892-c8e5f3740287",
   "metadata": {},
   "outputs": [],
   "source": [
    "df_stations = pd.read_excel('data/metadane_kody_stacji_i_stanowisk_pomiarowych.xlsx')"
   ]
  },
  {
   "cell_type": "code",
   "execution_count": 4,
   "id": "dca754a7-252e-4faa-bb29-2285a3ad8b3b",
   "metadata": {},
   "outputs": [],
   "source": [
    "df_2023_pm_10 = pd.read_excel('data/2023/2023_PM10_24h_formatted.xlsx')\n",
    "df_2022_pm_10 = pd.read_excel('data/2022/2022_PM10_24h_formatted.xlsx')\n",
    "df_2021_pm_10 = pd.read_excel('data/2021/2021_PM10_24h_formatted.xlsx')\n",
    "\n",
    "df_2023_pm_25 = pd.read_excel('data/2023/2023_PM25_24h_formatted.xlsx')\n",
    "df_2022_pm_25 = pd.read_excel('data/2022/2022_PM25_24h_formatted.xlsx')\n",
    "df_2021_pm_25 = pd.read_excel('data/2021/2021_PM25_24h_formatted.xlsx')"
   ]
  },
  {
   "cell_type": "code",
   "execution_count": 5,
   "id": "aa8b7c67-9faf-4242-9e41-52ee4a7433bb",
   "metadata": {},
   "outputs": [],
   "source": [
    "merge_measures_with_stations_data(df_2023_pm_10, df_stations, '2023_pm10_merged', '2023')\n",
    "merge_measures_with_stations_data(df_2022_pm_10, df_stations, '2022_pm10_merged', '2022')\n",
    "merge_measures_with_stations_data(df_2021_pm_10, df_stations, '2021_pm10_merged', '2021')\n",
    "\n",
    "merge_measures_with_stations_data(df_2023_pm_10, df_stations, '2023_pm25_merged', '2023')\n",
    "merge_measures_with_stations_data(df_2022_pm_10, df_stations, '2022_pm25_merged', '2022')\n",
    "merge_measures_with_stations_data(df_2021_pm_10, df_stations, '2021_pm25_merged', '2021')"
   ]
  }
 ],
 "metadata": {
  "kernelspec": {
   "display_name": "Python 3 (ipykernel)",
   "language": "python",
   "name": "python3"
  },
  "language_info": {
   "codemirror_mode": {
    "name": "ipython",
    "version": 3
   },
   "file_extension": ".py",
   "mimetype": "text/x-python",
   "name": "python",
   "nbconvert_exporter": "python",
   "pygments_lexer": "ipython3",
   "version": "3.12.7"
  }
 },
 "nbformat": 4,
 "nbformat_minor": 5
}
